{
  "nbformat": 4,
  "nbformat_minor": 0,
  "metadata": {
    "colab": {
      "provenance": []
    },
    "kernelspec": {
      "name": "python3",
      "display_name": "Python 3"
    },
    "language_info": {
      "name": "python"
    }
  },
  "cells": [
    {
      "cell_type": "code",
      "execution_count": 15,
      "metadata": {
        "id": "A5aakwNMdwgt"
      },
      "outputs": [],
      "source": [
        "import openpyxl\n",
        "from openpyxl.styles import Border,Side\n",
        "workbook = openpyxl.Workbook()\n",
        "workbook.save(\"請求書.xlsx\")"
      ]
    },
    {
      "cell_type": "code",
      "source": [
        "workbook = openpyxl.load_workbook(\"請求書.xlsx\")\n",
        "ws = workbook.active"
      ],
      "metadata": {
        "id": "abFllDNGjoNC"
      },
      "execution_count": 16,
      "outputs": []
    },
    {
      "cell_type": "code",
      "source": [
        "ws[\"B2\"] = (\"請求書\")\n",
        "\n",
        "ws[\"B4\"] = (\"株式会社ABC\")\n",
        "\n",
        "ws[\"B5\"] = (\"〒101-0022 東京都千代田区神田練塀町300\")\n",
        "\n",
        "ws[\"B6\"] = (\"TEL:03-1234-5678 FAX:03-1234-5678\")\n",
        "\n",
        "ws[\"B7\"] = (\"担当者名:鈴木一郎 様\")\n",
        "\n",
        "ws[\"F4\"] = (\"No.\")\n",
        "\n",
        "ws[\"G4\"] = (\"0001\")\n",
        "\n",
        "ws[\"F5\"] = (\"日付\")\n",
        "\n",
        "ws.merge_cells(\"B4:C4\")\n",
        "ws.merge_cells(\"B5:E5\")\n",
        "ws.merge_cells(\"B6:E6\")\n",
        "ws.merge_cells(\"B7:D7\")\n",
        "\n",
        "workbook.save(\"請求書.xlsx\")"
      ],
      "metadata": {
        "id": "VGMALmutj1bI"
      },
      "execution_count": 18,
      "outputs": []
    },
    {
      "cell_type": "code",
      "source": [
        "data = [\n",
        "    [\"商品名\", \"数量\", \"単価\", \"金額\"],\n",
        "    [\"商品A\", 2, 10000, 20000],\n",
        "    [\"商品B\", 1, 15000, 15000],\n",
        "]\n",
        "\n",
        "# データをExcelの指定範囲に入れる\n",
        "start_row = 10  # 開始行\n",
        "for row in data:\n",
        "    for col, value in enumerate(row, 2):\n",
        "        cell = ws.cell(row=start_row, column=col, value=value)\n",
        "    start_row += 1  # 次の行に移動\n",
        "\n",
        "ws[\"E13\"] = 35000\n",
        "\n",
        "data = [\"小計\", \"消費税\", \"合計\"]\n",
        "values = [35000, 3500, 38500]\n",
        "\n",
        "# B15からB17の列にデータを入れる\n",
        "start_row = 15  # 開始行\n",
        "for value in data:\n",
        "    cell = ws.cell(row=start_row, column=2, value=value)\n",
        "    start_row += 1  # 次の行に移動\n",
        "\n",
        "# E15からE17の列にデータを入れる\n",
        "start_row = 15  # 開始行\n",
        "for value in values:\n",
        "    cell = ws.cell(row=start_row, column=5, value=value)  # 列Eにデータを入れる\n",
        "    start_row += 1  # 次の行に移動\n",
        "\n",
        "workbook.save(\"請求書.xlsx\")"
      ],
      "metadata": {
        "id": "vAROwELW5b6J"
      },
      "execution_count": 19,
      "outputs": []
    },
    {
      "cell_type": "code",
      "source": [
        "from datetime import date\n",
        "\n",
        "today = date.today()\n",
        "\n",
        "today = today.strftime(\"%Y/%m/%d\")\n",
        "\n",
        "ws[\"G5\"] = today\n",
        "\n",
        "workbook.save(\"請求書.xlsx\")"
      ],
      "metadata": {
        "id": "mHYaFs-uBngb"
      },
      "execution_count": 20,
      "outputs": []
    }
  ]
}